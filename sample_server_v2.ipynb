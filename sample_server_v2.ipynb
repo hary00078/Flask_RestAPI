{
 "cells": [
  {
   "cell_type": "markdown",
   "id": "932c6131",
   "metadata": {},
   "source": [
    "## Post 요청으로 데이터({\"value\" : num})를 받으면 데이터({\"value\" : num+1}) 보내기"
   ]
  },
  {
   "cell_type": "code",
   "execution_count": 1,
   "id": "38270d1b",
   "metadata": {},
   "outputs": [],
   "source": [
    "from flask import Flask, request, jsonify"
   ]
  },
  {
   "cell_type": "code",
   "execution_count": 2,
   "id": "2fe2e512",
   "metadata": {},
   "outputs": [],
   "source": [
    "app = Flask(__name__)"
   ]
  },
  {
   "cell_type": "code",
   "execution_count": 3,
   "id": "cc038e33",
   "metadata": {},
   "outputs": [],
   "source": [
    "@app.route('/hello_world') #test api\n",
    "def hello_world():\n",
    "    return 'Hello, World!'\n",
    "\n",
    "@app.route('/echo_call/<param>') #get echo api\n",
    "def get_echo_call(param):\n",
    "    return jsonify({\"param\": param})\n",
    "\n",
    "@app.route('/echo_call', methods=['POST']) #post echo api\n",
    "def post_echo_call():\n",
    "    received = request.get_json()\n",
    "    print(received)\n",
    "    print(type(received))\n",
    "    data = {\"value\": received[\"value\"]+1}\n",
    "    return jsonify(data)"
   ]
  },
  {
   "cell_type": "code",
   "execution_count": null,
   "id": "833fdda4",
   "metadata": {},
   "outputs": [
    {
     "name": "stdout",
     "output_type": "stream",
     "text": [
      " * Serving Flask app '__main__' (lazy loading)\n",
      " * Environment: production\n",
      "\u001b[31m   WARNING: This is a development server. Do not use it in a production deployment.\u001b[0m\n",
      "\u001b[2m   Use a production WSGI server instead.\u001b[0m\n",
      " * Debug mode: off\n"
     ]
    },
    {
     "name": "stderr",
     "output_type": "stream",
     "text": [
      " * Running on http://127.0.0.1:5000/ (Press CTRL+C to quit)\n",
      "127.0.0.1 - - [19/Apr/2022 11:21:58] \"POST /echo_call HTTP/1.1\" 200 -\n"
     ]
    },
    {
     "name": "stdout",
     "output_type": "stream",
     "text": [
      "{'value': 1}\n",
      "<class 'dict'>\n"
     ]
    }
   ],
   "source": [
    "if __name__ == \"__main__\":\n",
    "    app.run()"
   ]
  },
  {
   "cell_type": "code",
   "execution_count": null,
   "id": "f1036238",
   "metadata": {},
   "outputs": [],
   "source": []
  }
 ],
 "metadata": {
  "kernelspec": {
   "display_name": "Python 3 (ipykernel)",
   "language": "python",
   "name": "python3"
  },
  "language_info": {
   "codemirror_mode": {
    "name": "ipython",
    "version": 3
   },
   "file_extension": ".py",
   "mimetype": "text/x-python",
   "name": "python",
   "nbconvert_exporter": "python",
   "pygments_lexer": "ipython3",
   "version": "3.7.0"
  }
 },
 "nbformat": 4,
 "nbformat_minor": 5
}
