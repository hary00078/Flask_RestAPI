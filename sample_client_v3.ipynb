{
 "cells": [
  {
   "cell_type": "markdown",
   "id": "5bb24c0f",
   "metadata": {},
   "source": [
    "## Server로 파일 보내기"
   ]
  },
  {
   "cell_type": "code",
   "execution_count": 22,
   "id": "24ceb419",
   "metadata": {},
   "outputs": [],
   "source": [
    "import requests\n",
    "import json\n",
    "import io"
   ]
  },
  {
   "cell_type": "code",
   "execution_count": 23,
   "id": "2d05fa38",
   "metadata": {},
   "outputs": [],
   "source": [
    "url = \"http://127.0.0.1:5000/echo_call\"\n",
    "files = open(\"sample.jpg\", 'rb')\n",
    "upload = {\"file\": files}\n",
    "res = requests.post(url=\"http://127.0.0.1:5000/echo_call\", files = upload)"
   ]
  },
  {
   "cell_type": "code",
   "execution_count": 24,
   "id": "6c8a49d5",
   "metadata": {},
   "outputs": [
    {
     "data": {
      "text/plain": [
       "b'Success'"
      ]
     },
     "execution_count": 24,
     "metadata": {},
     "output_type": "execute_result"
    }
   ],
   "source": [
    "res.content"
   ]
  },
  {
   "cell_type": "code",
   "execution_count": null,
   "id": "7054d68d",
   "metadata": {},
   "outputs": [],
   "source": []
  }
 ],
 "metadata": {
  "kernelspec": {
   "display_name": "Python 3 (ipykernel)",
   "language": "python",
   "name": "python3"
  },
  "language_info": {
   "codemirror_mode": {
    "name": "ipython",
    "version": 3
   },
   "file_extension": ".py",
   "mimetype": "text/x-python",
   "name": "python",
   "nbconvert_exporter": "python",
   "pygments_lexer": "ipython3",
   "version": "3.7.0"
  }
 },
 "nbformat": 4,
 "nbformat_minor": 5
}
