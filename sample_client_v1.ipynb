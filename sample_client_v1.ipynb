{
 "cells": [
  {
   "cell_type": "markdown",
   "id": "5bb24c0f",
   "metadata": {},
   "source": [
    "# Server로 post 요청을 보내서 정해진 데이터({\"value\" : 1}) 받기"
   ]
  },
  {
   "cell_type": "code",
   "execution_count": 1,
   "id": "24ceb419",
   "metadata": {},
   "outputs": [],
   "source": [
    "import requests\n",
    "import json\n",
    "import io"
   ]
  },
  {
   "cell_type": "code",
   "execution_count": 2,
   "id": "2d05fa38",
   "metadata": {},
   "outputs": [],
   "source": [
    "url = \"http://127.0.0.1:5000/echo_call\"\n",
    "\n",
    "res = requests.post(url=\"http://127.0.0.1:5000/echo_call\")"
   ]
  },
  {
   "cell_type": "code",
   "execution_count": 3,
   "id": "fd10e383",
   "metadata": {},
   "outputs": [
    {
     "name": "stdout",
     "output_type": "stream",
     "text": [
      "b'{\"value\":1}\\n'\n"
     ]
    }
   ],
   "source": [
    "print(res.content)"
   ]
  },
  {
   "cell_type": "code",
   "execution_count": 4,
   "id": "6e9cb139",
   "metadata": {},
   "outputs": [],
   "source": [
    "received = res.content\n",
    "convert = json.loads(received.decode(\"utf-8\"))"
   ]
  },
  {
   "cell_type": "code",
   "execution_count": 5,
   "id": "f9c973e4",
   "metadata": {},
   "outputs": [
    {
     "name": "stdout",
     "output_type": "stream",
     "text": [
      "{'value': 1}\n",
      "<class 'dict'>\n"
     ]
    }
   ],
   "source": [
    "print(convert)\n",
    "print(type(convert))"
   ]
  },
  {
   "cell_type": "code",
   "execution_count": null,
   "id": "6c8a49d5",
   "metadata": {},
   "outputs": [],
   "source": []
  }
 ],
 "metadata": {
  "kernelspec": {
   "display_name": "Python 3 (ipykernel)",
   "language": "python",
   "name": "python3"
  },
  "language_info": {
   "codemirror_mode": {
    "name": "ipython",
    "version": 3
   },
   "file_extension": ".py",
   "mimetype": "text/x-python",
   "name": "python",
   "nbconvert_exporter": "python",
   "pygments_lexer": "ipython3",
   "version": "3.7.0"
  }
 },
 "nbformat": 4,
 "nbformat_minor": 5
}
